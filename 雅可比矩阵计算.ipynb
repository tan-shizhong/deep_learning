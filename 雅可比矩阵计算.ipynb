{
 "cells": [
  {
   "cell_type": "code",
   "execution_count": 3,
   "metadata": {},
   "outputs": [],
   "source": [
    "import sympy as sy\n",
    "import math\n",
    "from sympy import *\n",
    "import numpy as np\n"
   ]
  },
  {
   "cell_type": "code",
   "execution_count": 4,
   "metadata": {},
   "outputs": [],
   "source": [
    "def DHmatrix(theta, d, a, alpha):\n",
    "    '''\n",
    "    根据机器人的DH参数求连杆变换矩阵\n",
    "    '''\n",
    "\n",
    "#     DH1 = [cos(theta), -sin(theta) * cos(alpha), sin(theta) * sin(alpha), a * cos(theta)]\n",
    "#     DH2 = [sin(theta),cos(theta) * cos(alpha), -cos(theta) * sin(alpha), a * sin(theta)]\n",
    "#     DH3 = [0, sin(alpha), cos(alpha), d]\n",
    "#     DH4 = [0, 0, 0, 1]\n",
    "# 书上的公式\n",
    "    DH1 = [cos(theta), -sin(theta), 0, a]\n",
    "    DH2 = [sin(theta) * cos(alpha), cos(theta) * cos(alpha) , -sin(alpha), -d * sin(alpha)]\n",
    "    DH3 = [sin(theta) * sin(alpha), cos(theta) * sin(alpha), cos(alpha), d * cos(alpha)]\n",
    "    DH4 = [0, 0, 0, 1]\n",
    "    DH = np.array([DH1, DH2, DH3, DH4])\n",
    "    return DH"
   ]
  },
  {
   "cell_type": "code",
   "execution_count": 8,
   "metadata": {},
   "outputs": [],
   "source": [
    "def yacobi(theta, d, a, alpha):\n",
    "\n",
    "    T01 = DHmatrix(theta[0], d[0], a[0], alpha[0])\n",
    "    T12 = DHmatrix(theta[1], d[1], a[1], alpha[1])\n",
    "    T23 = DHmatrix(theta[2], d[2], a[2], alpha[2])\n",
    "    T34 = DHmatrix(theta[3], d[3], a[3], alpha[3])\n",
    "    T45 = DHmatrix(theta[4], d[4], a[4], alpha[4])\n",
    "    T56 = DHmatrix(theta[5], d[5], a[5], alpha[5])\n",
    "\n",
    "    T01 = T01\n",
    "    T02 = np.dot(T01, T12)\n",
    "    T03 = np.dot(T02, T23)\n",
    "    T04 = np.dot(T03, T34)\n",
    "    T05 = np.dot(T04, T45)\n",
    "    T06 = np.dot(T05, T56)\n",
    "\n",
    "    R01 = T01[:3, :3]\n",
    "    R12 = T12[:3, :3]\n",
    "    R23 = T23[:3, :3]\n",
    "    R34 = T34[:3, :3]\n",
    "    R45 = T45[:3, :3]\n",
    "    R56 = T56[:3, :3]\n",
    "\n",
    "    R01 = R01\n",
    "    R02 = np.dot(R01, R12)\n",
    "    R03 = np.dot(R02, R23)\n",
    "    R04 = np.dot(R03, R34)\n",
    "    R05 = np.dot(R04, R45)\n",
    "    R06 = np.dot(R05, R56)\n",
    "\n",
    "    z1 = R01[2,:]\n",
    "    z2 = R02[2,:]\n",
    "    z3 = R03[2, :]\n",
    "    z4 = R04[2, :]\n",
    "    z5 = R05[2, :]\n",
    "    z6 = R06[2, :]\n",
    "\n",
    "    T56 = T56\n",
    "    T46 = np.dot(T45, T56)\n",
    "    T36 = np.dot(T34, T46)\n",
    "    T26 = np.dot(T23, T36)\n",
    "    T16 = np.dot(T12, T26)\n",
    "\n",
    "    p66 = np.array([0, 0, 0])\n",
    "    p56 = T56[:3, 3]\n",
    "    p46 = T46[:3, 3]\n",
    "    p36 = T36[:3, 3]\n",
    "    p26 = T26[:3, 3]\n",
    "    p16 = T16[:3, 3]\n",
    "\n",
    "    J6 = np.cross(z6, np.dot(R06, p66))\n",
    "    J5 = np.cross(z5, np.dot(R05, p56))\n",
    "    J4 = np.cross(z4, np.dot(R04, p46))\n",
    "    J3 = np.cross(z3, np.dot(R03, p36))\n",
    "    J2 = np.cross(z2, np.dot(R02, p26))\n",
    "    J1 = np.cross(z1, np.dot(R01, p16))\n",
    "\n",
    "    J6 = np.concatenate((J6, z6))\n",
    "    J5 = np.concatenate((J5, z5))\n",
    "    J4 = np.concatenate((J4, z4))\n",
    "    J3 = np.concatenate((J3, z3))\n",
    "    J2 = np.concatenate((J2, z2))\n",
    "    J1 = np.concatenate((J1, z1))\n",
    "\n",
    "    yacobi = np.array([J1, J2, J3, J4, J5, J6])\n",
    "\n",
    "    return yacobi"
   ]
  },
  {
   "cell_type": "code",
   "execution_count": 6,
   "metadata": {},
   "outputs": [],
   "source": [
    "theta1,theta2,theta3,theta4,theta5,theta6 = sy.symbols('theta1,theta2,theta3,theta4,theta5,theta6')\n",
    "a1,a2,a3,a4,a5,d1,d2,d3,d4,d5=sy.symbols('a1,a2,a3,a4,a5,d1,d2,d3,d4,d5')"
   ]
  },
  {
   "cell_type": "code",
   "execution_count": 6,
   "metadata": {},
   "outputs": [
    {
     "data": {
      "text/plain": [
       "(array([[cos(theta1), -sin(theta1), 0, 0],\n",
       "        [sin(theta1), cos(theta1), 0, 0],\n",
       "        [0, 0, 1, 0],\n",
       "        [0, 0, 0, 1]], dtype=object),\n",
       " array([[cos(theta2), -sin(theta2), 0, 0],\n",
       "        [0, 0, 1, d2],\n",
       "        [-sin(theta2), -cos(theta2), 0, 0],\n",
       "        [0, 0, 0, 1]], dtype=object),\n",
       " array([[cos(theta3), -sin(theta3), 0, a2],\n",
       "        [sin(theta3), cos(theta3), 0, 0],\n",
       "        [0, 0, 1, 0],\n",
       "        [0, 0, 0, 1]], dtype=object),\n",
       " array([[cos(theta4), -sin(theta4), 0, a3],\n",
       "        [0, 0, 1, d4],\n",
       "        [-sin(theta4), -cos(theta4), 0, 0],\n",
       "        [0, 0, 0, 1]], dtype=object),\n",
       " array([[cos(theta5), -sin(theta5), 0, 0],\n",
       "        [0, 0, -1, 0],\n",
       "        [sin(theta5), cos(theta5), 0, 0],\n",
       "        [0, 0, 0, 1]], dtype=object),\n",
       " array([[cos(theta6), -sin(theta6), 0, 0],\n",
       "        [0, 0, 1, 0],\n",
       "        [-sin(theta6), -cos(theta6), 0, 0],\n",
       "        [0, 0, 0, 1]], dtype=object))"
      ]
     },
     "execution_count": 6,
     "metadata": {},
     "output_type": "execute_result"
    }
   ],
   "source": [
    "# 论文上UR的参数\n",
    "# T01 = DHmatrix(theta1, 0, 0, -pi/2)\n",
    "# T12 = DHmatrix(theta2, d2, a2, 0)\n",
    "# T23 = DHmatrix(theta3, d3, a3, 0)\n",
    "# T34 = DHmatrix(theta4, 0, 0, pi/2)\n",
    "# T45 = DHmatrix(theta5, d5, 0, pi/2)\n",
    "# T56 = DHmatrix(theta6, 0, 0, 0)\n",
    "# 书上puma560\n",
    "T01 = DHmatrix(theta1, 0, 0, 0)\n",
    "T12 = DHmatrix(theta2, d2, 0, -pi/2)\n",
    "T23 = DHmatrix(theta3, 0, a2, 0)\n",
    "T34 = DHmatrix(theta4, d4, a3, -pi/2)\n",
    "T45 = DHmatrix(theta5, 0, 0, pi/2)\n",
    "T56 = DHmatrix(theta6, 0, 0, -pi/2)\n",
    "T01, T12, T23, T34, T45, T56"
   ]
  },
  {
   "cell_type": "code",
   "execution_count": 35,
   "metadata": {},
   "outputs": [
    {
     "data": {
      "text/plain": [
       "([0, 0, 1],\n",
       " [-sin(theta2), -cos(theta2), 0],\n",
       " [-sin(theta2 + theta3), -cos(theta2 + theta3), 0],\n",
       " [-sin(theta2 + theta3)*cos(theta4), sin(theta4)*sin(theta2 + theta3), -cos(theta2 + theta3)],\n",
       " [-sin(theta5)*cos(theta2 + theta3) - sin(theta2 + theta3)*cos(theta4)*cos(theta5), sin(theta5)*sin(theta2 + theta3)*cos(theta4) - cos(theta5)*cos(theta2 + theta3), -sin(theta4)*sin(theta2 + theta3)],\n",
       " [-(sin(theta5)*cos(theta2 + theta3) + sin(theta2 + theta3)*cos(theta4)*cos(theta5))*cos(theta6) + sin(theta4)*sin(theta6)*sin(theta2 + theta3), (sin(theta5)*cos(theta2 + theta3) + sin(theta2 + theta3)*cos(theta4)*cos(theta5))*sin(theta6) + sin(theta4)*sin(theta2 + theta3)*cos(theta6), sin(theta5)*sin(theta2 + theta3)*cos(theta4) - cos(theta5)*cos(theta2 + theta3)])"
      ]
     },
     "execution_count": 35,
     "metadata": {},
     "output_type": "execute_result"
    }
   ],
   "source": [
    "T01 = T01\n",
    "T02 = np.dot(T01, T12)\n",
    "T03 = np.dot(T02, T23)\n",
    "T04 = np.dot(T03, T34)\n",
    "T05 = np.dot(T04, T45)\n",
    "T06 = np.dot(T05, T56)\n",
    "\n",
    "R01 = T01[:3, :3]\n",
    "R12 = T12[:3, :3]\n",
    "R23 = T23[:3, :3]\n",
    "R34 = T34[:3, :3]\n",
    "R45 = T45[:3, :3]\n",
    "R56 = T56[:3, :3]\n",
    "\n",
    "R01 = R01\n",
    "R02 = np.dot(R01, R12)\n",
    "R03 = np.dot(R02, R23)\n",
    "R04 = np.dot(R03, R34)\n",
    "R05 = np.dot(R04, R45)\n",
    "R06 = np.dot(R05, R56)\n",
    "\n",
    "z1 = R01[2,:]\n",
    "z2 = R02[2,:]\n",
    "z3 = R03[2, :]\n",
    "z4 = R04[2, :]\n",
    "z5 = R05[2, :]\n",
    "z6 = R06[2, :]\n",
    "\n",
    "T56 = T56\n",
    "T46 = np.dot(T45, T56)\n",
    "T36 = np.dot(T34, T46)\n",
    "T26 = np.dot(T23, T36)\n",
    "T16 = np.dot(T12, T26)\n",
    "\n",
    "p66 = np.array([0, 0, 0])\n",
    "p56 = T56[:3, 3]\n",
    "p46 = T46[:3, 3]\n",
    "p36 = T36[:3, 3]\n",
    "p26 = T26[:3, 3]\n",
    "p16 = T16[:3, 3]\n",
    "\n",
    "J6 = np.cross(z6, np.dot(R06, p66))\n",
    "J5 = np.cross(z5, np.dot(R05, p56))\n",
    "J4 = np.cross(z4, np.dot(R04, p46))\n",
    "J3 = np.cross(z3, np.dot(R03, p36))\n",
    "J2 = np.cross(z2, np.dot(R02, p26))\n",
    "J1 = np.cross(z1, np.dot(R01, p16))\n",
    "\n",
    "J6 = np.concatenate((J6, z6))\n",
    "J5 = np.concatenate((J5, z5))\n",
    "J4 = np.concatenate((J4, z4))\n",
    "J3 = np.concatenate((J3, z3))\n",
    "J2 = np.concatenate((J2, z2))\n",
    "J1 = np.concatenate((J1, z1))\n",
    "simplify(z1), simplify(z2), simplify(z3), simplify(z4), simplify(z5), simplify(z6)\n",
    "# simplify(p16), simplify(p26), simplify(p36), simplify(p46), simplify(p56), simplify(p66)\n",
    "# np.dot(R04, p46), np.dot(R05, p56),np.dot(R06, p66)\n",
    "# simplify(J1), simplify(J2), simplify(J3), simplify(J4), simplify(J5), simplify(J6)\n",
    "# [J1,J2,J3,J4,J5,J6]\n",
    "# simplify(J1)"
   ]
  },
  {
   "cell_type": "code",
   "execution_count": 24,
   "metadata": {},
   "outputs": [
    {
     "data": {
      "text/latex": [
       "$\\displaystyle \\left[\\begin{matrix}\\cos{\\left(\\theta_{1} \\right)} \\cos{\\left(\\theta_{2} \\right)} & - \\sin{\\left(\\theta_{2} \\right)} \\cos{\\left(\\theta_{1} \\right)} & - \\sin{\\left(\\theta_{1} \\right)}\\\\\\sin{\\left(\\theta_{1} \\right)} \\cos{\\left(\\theta_{2} \\right)} & - \\sin{\\left(\\theta_{1} \\right)} \\sin{\\left(\\theta_{2} \\right)} & \\cos{\\left(\\theta_{1} \\right)}\\\\- \\sin{\\left(\\theta_{2} \\right)} & - \\cos{\\left(\\theta_{2} \\right)} & 0\\end{matrix}\\right]$"
      ],
      "text/plain": [
       "[[cos(theta1)*cos(theta2), -sin(theta2)*cos(theta1), -sin(theta1)], [sin(theta1)*cos(theta2), -sin(theta1)*sin(theta2), cos(theta1)], [-sin(theta2), -cos(theta2), 0]]"
      ]
     },
     "execution_count": 24,
     "metadata": {},
     "output_type": "execute_result"
    }
   ],
   "source": [
    "simplify(np.dot(R01,R12))"
   ]
  },
  {
   "cell_type": "code",
   "execution_count": 11,
   "metadata": {},
   "outputs": [],
   "source": [
    "a = [0, 0, a2, a3, 0, 0]\n",
    "d = [0, d2, 0, d4, 0, 0]\n",
    "alpha = [0, -pi/2, 0, -pi/2, pi/2, -pi/2]\n",
    "theta = [theta1,theta2,theta3,theta4,theta5,theta6]"
   ]
  },
  {
   "cell_type": "code",
   "execution_count": 13,
   "metadata": {},
   "outputs": [
    {
     "data": {
      "text/plain": [
       "(array([[cos(theta1), -sin(theta1), 0, 0],\n",
       "        [sin(theta1), cos(theta1), 0, 0],\n",
       "        [0, 0, 1, 0],\n",
       "        [0, 0, 0, 1]], dtype=object),\n",
       " array([[cos(theta2), -sin(theta2), 0, 0],\n",
       "        [0, 0, 1, d2],\n",
       "        [-sin(theta2), -cos(theta2), 0, 0],\n",
       "        [0, 0, 0, 1]], dtype=object),\n",
       " array([[cos(theta3), -sin(theta3), 0, a2],\n",
       "        [sin(theta3), cos(theta3), 0, 0],\n",
       "        [0, 0, 1, 0],\n",
       "        [0, 0, 0, 1]], dtype=object),\n",
       " array([[cos(theta4), -sin(theta4), 0, a3],\n",
       "        [0, 0, 1, d4],\n",
       "        [-sin(theta4), -cos(theta4), 0, 0],\n",
       "        [0, 0, 0, 1]], dtype=object),\n",
       " array([[cos(theta5), -sin(theta5), 0, 0],\n",
       "        [0, 0, -1, 0],\n",
       "        [sin(theta5), cos(theta5), 0, 0],\n",
       "        [0, 0, 0, 1]], dtype=object),\n",
       " array([[cos(theta6), -sin(theta6), 0, 0],\n",
       "        [0, 0, 1, 0],\n",
       "        [-sin(theta6), -cos(theta6), 0, 0],\n",
       "        [0, 0, 0, 1]], dtype=object))"
      ]
     },
     "execution_count": 13,
     "metadata": {},
     "output_type": "execute_result"
    }
   ],
   "source": [
    "    T01 = DHmatrix(theta[0], d[0], a[0], alpha[0])\n",
    "    T12 = DHmatrix(theta[1], d[1], a[1], alpha[1])\n",
    "    T23 = DHmatrix(theta[2], d[2], a[2], alpha[2])\n",
    "    T34 = DHmatrix(theta[3], d[3], a[3], alpha[3])\n",
    "    T45 = DHmatrix(theta[4], d[4], a[4], alpha[4])\n",
    "    T56 = DHmatrix(theta[5], d[5], a[5], alpha[5])\n",
    "    T01,T12,T23,T34,T45,T56\n",
    "    "
   ]
  },
  {
   "cell_type": "code",
   "execution_count": 37,
   "metadata": {},
   "outputs": [
    {
     "data": {
      "text/latex": [
       "$\\displaystyle \\left[\\begin{matrix}\\cos{\\left(\\theta_{4} \\right)} & - \\sin{\\left(\\theta_{4} \\right)} & 0\\\\0 & 0 & 1\\\\- \\sin{\\left(\\theta_{4} \\right)} & - \\cos{\\left(\\theta_{4} \\right)} & 0\\end{matrix}\\right]$"
      ],
      "text/plain": [
       "[[cos(theta4), -sin(theta4), 0], [0, 0, 1], [-sin(theta4), -cos(theta4), 0]]"
      ]
     },
     "execution_count": 37,
     "metadata": {},
     "output_type": "execute_result"
    }
   ],
   "source": [
    "R01 = T01[:3, :3]\n",
    "R12 = T12[:3, :3]\n",
    "R23 = T23[:3, :3]\n",
    "R34 = T34[:3, :3]\n",
    "R45 = T45[:3, :3]\n",
    "R56 = T56[:3, :3]\n",
    "R01,R12,R23,R34,R45,R56\n"
   ]
  },
  {
   "cell_type": "code",
   "execution_count": 42,
   "metadata": {},
   "outputs": [
    {
     "data": {
      "text/latex": [
       "$\\displaystyle \\left[\\begin{matrix}\\sin{\\left(\\theta_{1} \\right)} \\sin{\\left(\\theta_{4} \\right)} + \\cos{\\left(\\theta_{1} \\right)} \\cos{\\left(\\theta_{4} \\right)} \\cos{\\left(\\theta_{2} + \\theta_{3} \\right)} & \\sin{\\left(\\theta_{1} \\right)} \\cos{\\left(\\theta_{4} \\right)} - \\sin{\\left(\\theta_{4} \\right)} \\cos{\\left(\\theta_{1} \\right)} \\cos{\\left(\\theta_{2} + \\theta_{3} \\right)} & - \\sin{\\left(\\theta_{2} + \\theta_{3} \\right)} \\cos{\\left(\\theta_{1} \\right)}\\\\\\sin{\\left(\\theta_{1} \\right)} \\cos{\\left(\\theta_{4} \\right)} \\cos{\\left(\\theta_{2} + \\theta_{3} \\right)} - \\sin{\\left(\\theta_{4} \\right)} \\cos{\\left(\\theta_{1} \\right)} & - \\sin{\\left(\\theta_{1} \\right)} \\sin{\\left(\\theta_{4} \\right)} \\cos{\\left(\\theta_{2} + \\theta_{3} \\right)} - \\cos{\\left(\\theta_{1} \\right)} \\cos{\\left(\\theta_{4} \\right)} & - \\sin{\\left(\\theta_{1} \\right)} \\sin{\\left(\\theta_{2} + \\theta_{3} \\right)}\\\\- \\sin{\\left(\\theta_{2} + \\theta_{3} \\right)} \\cos{\\left(\\theta_{4} \\right)} & \\sin{\\left(\\theta_{4} \\right)} \\sin{\\left(\\theta_{2} + \\theta_{3} \\right)} & - \\cos{\\left(\\theta_{2} + \\theta_{3} \\right)}\\end{matrix}\\right]$"
      ],
      "text/plain": [
       "[[sin(theta1)*sin(theta4) + cos(theta1)*cos(theta4)*cos(theta2 + theta3), sin(theta1)*cos(theta4) - sin(theta4)*cos(theta1)*cos(theta2 + theta3), -sin(theta2 + theta3)*cos(theta1)], [sin(theta1)*cos(theta4)*cos(theta2 + theta3) - sin(theta4)*cos(theta1), -sin(theta1)*sin(theta4)*cos(theta2 + theta3) - cos(theta1)*cos(theta4), -sin(theta1)*sin(theta2 + theta3)], [-sin(theta2 + theta3)*cos(theta4), sin(theta4)*sin(theta2 + theta3), -cos(theta2 + theta3)]]"
      ]
     },
     "execution_count": 42,
     "metadata": {},
     "output_type": "execute_result"
    }
   ],
   "source": [
    "R01 = R01\n",
    "R02 = np.dot(R01, R12)\n",
    "R03 = np.dot(R02, R23)\n",
    "R04 = np.dot(R03, R34)\n",
    "R05 = np.dot(R04, R45)\n",
    "R06 = np.dot(R05, R56)\n",
    "R01,R02,R03,R04,R05,R06\n",
    "simplify(R04)\n",
    "simplify(R04)\n"
   ]
  },
  {
   "cell_type": "code",
   "execution_count": 16,
   "metadata": {},
   "outputs": [
    {
     "data": {
      "text/plain": [
       "(array([0, 0, 1], dtype=object),\n",
       " array([-sin(theta2), -cos(theta2), 0], dtype=object),\n",
       " array([-sin(theta2)*cos(theta3) - sin(theta3)*cos(theta2),\n",
       "        sin(theta2)*sin(theta3) - cos(theta2)*cos(theta3), 0], dtype=object),\n",
       " array([(-sin(theta2)*cos(theta3) - sin(theta3)*cos(theta2))*cos(theta4),\n",
       "        -(-sin(theta2)*cos(theta3) - sin(theta3)*cos(theta2))*sin(theta4),\n",
       "        sin(theta2)*sin(theta3) - cos(theta2)*cos(theta3)], dtype=object),\n",
       " array([(sin(theta2)*sin(theta3) - cos(theta2)*cos(theta3))*sin(theta5) + (-sin(theta2)*cos(theta3) - sin(theta3)*cos(theta2))*cos(theta4)*cos(theta5),\n",
       "        (sin(theta2)*sin(theta3) - cos(theta2)*cos(theta3))*cos(theta5) - (-sin(theta2)*cos(theta3) - sin(theta3)*cos(theta2))*sin(theta5)*cos(theta4),\n",
       "        (-sin(theta2)*cos(theta3) - sin(theta3)*cos(theta2))*sin(theta4)],\n",
       "       dtype=object),\n",
       " array([((sin(theta2)*sin(theta3) - cos(theta2)*cos(theta3))*sin(theta5) + (-sin(theta2)*cos(theta3) - sin(theta3)*cos(theta2))*cos(theta4)*cos(theta5))*cos(theta6) - (-sin(theta2)*cos(theta3) - sin(theta3)*cos(theta2))*sin(theta4)*sin(theta6),\n",
       "        -((sin(theta2)*sin(theta3) - cos(theta2)*cos(theta3))*sin(theta5) + (-sin(theta2)*cos(theta3) - sin(theta3)*cos(theta2))*cos(theta4)*cos(theta5))*sin(theta6) - (-sin(theta2)*cos(theta3) - sin(theta3)*cos(theta2))*sin(theta4)*cos(theta6),\n",
       "        (sin(theta2)*sin(theta3) - cos(theta2)*cos(theta3))*cos(theta5) - (-sin(theta2)*cos(theta3) - sin(theta3)*cos(theta2))*sin(theta5)*cos(theta4)],\n",
       "       dtype=object))"
      ]
     },
     "execution_count": 16,
     "metadata": {},
     "output_type": "execute_result"
    }
   ],
   "source": [
    "z1 = R01[2,:]\n",
    "z2 = R02[2,:]\n",
    "z3 = R03[2, :]\n",
    "z4 = R04[2, :]\n",
    "z5 = R05[2, :]\n",
    "z6 = R06[2, :]\n",
    "z1,z2,z3,z4,z5,z6"
   ]
  },
  {
   "cell_type": "code",
   "execution_count": 19,
   "metadata": {},
   "outputs": [
    {
     "data": {
      "text/plain": [
       "(array([-(a3*sin(theta3) + d4*cos(theta3))*sin(theta2) + (a2 + a3*cos(theta3) - d4*sin(theta3))*cos(theta2),\n",
       "        d2,\n",
       "        -(a3*sin(theta3) + d4*cos(theta3))*cos(theta2) - (a2 + a3*cos(theta3) - d4*sin(theta3))*sin(theta2)],\n",
       "       dtype=object),\n",
       " array([a2 + a3*cos(theta3) - d4*sin(theta3),\n",
       "        a3*sin(theta3) + d4*cos(theta3), 0], dtype=object),\n",
       " array([a3, d4, 0], dtype=object),\n",
       " array([0, 0, 0], dtype=object),\n",
       " array([0, 0, 0], dtype=object),\n",
       " array([0, 0, 0]))"
      ]
     },
     "execution_count": 19,
     "metadata": {},
     "output_type": "execute_result"
    }
   ],
   "source": [
    "T56 = T56\n",
    "T46 = np.dot(T45, T56)\n",
    "T36 = np.dot(T34, T46)\n",
    "T26 = np.dot(T23, T36)\n",
    "T16 = np.dot(T12, T26)\n",
    "\n",
    "p66 = np.array([0, 0, 0])\n",
    "p56 = T56[:3, 3]\n",
    "p46 = T46[:3, 3]\n",
    "p36 = T36[:3, 3]\n",
    "p26 = T26[:3, 3]\n",
    "p16 = T16[:3, 3]\n",
    "p16,p26,p36,p46,p56,p66"
   ]
  },
  {
   "cell_type": "code",
   "execution_count": 20,
   "metadata": {},
   "outputs": [
    {
     "data": {
      "text/latex": [
       "$\\displaystyle \\left[\\begin{matrix}a_{2} \\cos{\\left(\\theta_{2} \\right)} + a_{3} \\cos{\\left(\\theta_{2} + \\theta_{3} \\right)} - d_{4} \\sin{\\left(\\theta_{2} + \\theta_{3} \\right)} & d_{2} & - a_{2} \\sin{\\left(\\theta_{2} \\right)} - a_{3} \\sin{\\left(\\theta_{2} + \\theta_{3} \\right)} - d_{4} \\cos{\\left(\\theta_{2} + \\theta_{3} \\right)}\\end{matrix}\\right]$"
      ],
      "text/plain": [
       "[a2*cos(theta2) + a3*cos(theta2 + theta3) - d4*sin(theta2 + theta3), d2, -a2*sin(theta2) - a3*sin(theta2 + theta3) - d4*cos(theta2 + theta3)]"
      ]
     },
     "execution_count": 20,
     "metadata": {},
     "output_type": "execute_result"
    }
   ],
   "source": [
    "simplify(p16)"
   ]
  },
  {
   "cell_type": "code",
   "execution_count": 44,
   "metadata": {},
   "outputs": [
    {
     "data": {
      "text/plain": [
       "(array([-sin(theta2)*cos(theta1)*cos(theta3) - sin(theta3)*cos(theta1)*cos(theta2),\n",
       "        -sin(theta1)*sin(theta2)*cos(theta3) - sin(theta1)*sin(theta3)*cos(theta2),\n",
       "        sin(theta2)*sin(theta3) - cos(theta2)*cos(theta3)], dtype=object),\n",
       " array([(-sin(theta2)*sin(theta3)*cos(theta1) + cos(theta1)*cos(theta2)*cos(theta3))*sin(theta4) - sin(theta1)*cos(theta4),\n",
       "        (-sin(theta1)*sin(theta2)*sin(theta3) + sin(theta1)*cos(theta2)*cos(theta3))*sin(theta4) + cos(theta1)*cos(theta4),\n",
       "        (-sin(theta2)*cos(theta3) - sin(theta3)*cos(theta2))*sin(theta4)],\n",
       "       dtype=object),\n",
       " array([-((-sin(theta2)*sin(theta3)*cos(theta1) + cos(theta1)*cos(theta2)*cos(theta3))*cos(theta4) + sin(theta1)*sin(theta4))*sin(theta5) + (-sin(theta2)*cos(theta1)*cos(theta3) - sin(theta3)*cos(theta1)*cos(theta2))*cos(theta5),\n",
       "        -((-sin(theta1)*sin(theta2)*sin(theta3) + sin(theta1)*cos(theta2)*cos(theta3))*cos(theta4) - sin(theta4)*cos(theta1))*sin(theta5) + (-sin(theta1)*sin(theta2)*cos(theta3) - sin(theta1)*sin(theta3)*cos(theta2))*cos(theta5),\n",
       "        (sin(theta2)*sin(theta3) - cos(theta2)*cos(theta3))*cos(theta5) - (-sin(theta2)*cos(theta3) - sin(theta3)*cos(theta2))*sin(theta5)*cos(theta4)],\n",
       "       dtype=object))"
      ]
     },
     "execution_count": 44,
     "metadata": {},
     "output_type": "execute_result"
    }
   ],
   "source": [
    "    z1 = R01[:, 2]\n",
    "    z2 = R02[:, 2]\n",
    "    z3 = R03[:, 2]\n",
    "    z4 = R04[:, 2]\n",
    "    z5 = R05[:, 2]\n",
    "    z6 = R06[:, 2]\n",
    "    z1,z2,z3\n",
    "    z4,z5,z6\n"
   ]
  }
 ],
 "metadata": {
  "kernelspec": {
   "display_name": "Python 3",
   "language": "python",
   "name": "python3"
  },
  "language_info": {
   "codemirror_mode": {
    "name": "ipython",
    "version": 3
   },
   "file_extension": ".py",
   "mimetype": "text/x-python",
   "name": "python",
   "nbconvert_exporter": "python",
   "pygments_lexer": "ipython3",
   "version": "3.8.5"
  }
 },
 "nbformat": 4,
 "nbformat_minor": 4
}
