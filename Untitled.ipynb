{
 "cells": [
  {
   "cell_type": "code",
   "execution_count": 2,
   "metadata": {},
   "outputs": [],
   "source": [
    "import math\n",
    "import numpy as np\n",
    "from tqdm import tqdm\n",
    "import matplotlib.pyplot as plt\n"
   ]
  },
  {
   "cell_type": "code",
   "execution_count": 34,
   "metadata": {},
   "outputs": [
    {
     "data": {
      "text/plain": [
       "(array([[ 1,  2,  3,  4],\n",
       "        [ 5,  6,  7,  8],\n",
       "        [ 9, 10, 11, 12],\n",
       "        [13, 14, 15, 16]]),\n",
       " array([ 3,  7, 11]))"
      ]
     },
     "execution_count": 34,
     "metadata": {},
     "output_type": "execute_result"
    }
   ],
   "source": [
    "T=np.array(range(1,17)).reshape((4,4))\n",
    "T06 = T\n",
    "Zaxis=T[:3,2]\n",
    "T,Zaxis\n"
   ]
  },
  {
   "cell_type": "code",
   "execution_count": 35,
   "metadata": {},
   "outputs": [],
   "source": [
    "if abs(Zaxis[1]) < 0.0001 and abs(Zaxis[1]) < 0.0001:\n",
    "    if Zaxis[2] > 0.9:\n",
    "        print('---------------------奇异，beta=0---------------------')\n",
    "        beta = 0\n",
    "        alpha = 0\n",
    "        gema = math.atan2(-T06[0, 1], T[0, 0])\n",
    "    else:\n",
    "        print('---------------------奇异，beta=pi---------------------')\n",
    "        beta = math.pi\n",
    "        alpha = 0\n",
    "        gema = math.atan2(T06(0, 1), -T06(0, 0))\n",
    "else:\n",
    "    beta = math.atan2(math.sqrt(Zaxis[0] * Zaxis[0] + Zaxis[1] * Zaxis[1]), Zaxis[2])\n",
    "    alpha = math.atan2(Zaxis[1], Zaxis[0])\n",
    "    gema = math.atan2(T06[2, 1], -T06[2, 0])\n",
    "    \n",
    "\n",
    "    "
   ]
  },
  {
   "cell_type": "code",
   "execution_count": 37,
   "metadata": {},
   "outputs": [
    {
     "data": {
      "text/plain": [
       "(array([ 4,  8, 12]),\n",
       " [1.1659045405098132, 0.6055685377161806, 2.3036114285814033])"
      ]
     },
     "execution_count": 37,
     "metadata": {},
     "output_type": "execute_result"
    }
   ],
   "source": [
    "theta = [alpha, beta, gema]\n",
    "xyz = T06[:3, 3]\n",
    "xyz,theta"
   ]
  },
  {
   "cell_type": "code",
   "execution_count": 47,
   "metadata": {},
   "outputs": [
    {
     "data": {
      "text/plain": [
       "array([ 4.        ,  8.        , 12.        ,  1.16590454,  0.60556854,\n",
       "        2.30361143])"
      ]
     },
     "execution_count": 47,
     "metadata": {},
     "output_type": "execute_result"
    }
   ],
   "source": [
    "oula = np.concatenate((xyz,theta), axis=0)\n",
    "oula"
   ]
  }
 ],
 "metadata": {
  "kernelspec": {
   "display_name": "Python 3",
   "language": "python",
   "name": "python3"
  },
  "language_info": {
   "codemirror_mode": {
    "name": "ipython",
    "version": 3
   },
   "file_extension": ".py",
   "mimetype": "text/x-python",
   "name": "python",
   "nbconvert_exporter": "python",
   "pygments_lexer": "ipython3",
   "version": "3.8.5"
  }
 },
 "nbformat": 4,
 "nbformat_minor": 4
}
