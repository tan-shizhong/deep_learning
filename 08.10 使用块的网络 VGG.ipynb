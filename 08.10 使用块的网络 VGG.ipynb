{
 "cells": [
  {
   "cell_type": "markdown",
   "id": "440e1793",
   "metadata": {},
   "source": [
    "# 使用块的网络 VGG"
   ]
  },
  {
   "cell_type": "markdown",
   "id": "93ceae66",
   "metadata": {},
   "source": [
    "### 网络结构\n",
    "![VGG](./src/VGG.png)"
   ]
  },
  {
   "cell_type": "markdown",
   "id": "8b6a0105",
   "metadata": {},
   "source": [
    "使用多个小卷积核来代替大的卷积核\n",
    "\n",
    "将多个3*3卷积层（填充1，n层，m通道），2*2最大池化层（步幅2）组成一个VGG块，使用更多的3*3比使用对应的5*5卷积核效果更好\n",
    "\n",
    "多个VGG块后连接全连接层，不同次数的重复得到不同的架构（VGG-16，VGG-19）\n"
   ]
  },
  {
   "cell_type": "code",
   "execution_count": null,
   "id": "86823d60",
   "metadata": {},
   "outputs": [],
   "source": [
    "import torch\n",
    "from torch import nn\n",
    "from d2l import torch as d2l\n",
    "\n",
    "def vgg_block(num_convs, in_channels, out_channels):\n",
    "    layers = []\n",
    "    for _ in range(num_convs):\n",
    "        layers.append(\n",
    "            nn.Conv2d(in_channels, out_channels, kernel_size=3, padding=1))\n",
    "        layers.append(nn.ReLU())\n",
    "        in_channels = out_channels\n",
    "    layers.append(nn.MaxPool2d(kernel_size=2, stride=2))\n",
    "    return nn.Sequential(*layers)"
   ]
  },
  {
   "cell_type": "markdown",
   "id": "5f6ca6f0",
   "metadata": {},
   "source": [
    "使用VGG块构建VGG网络\n",
    "\n",
    "图像只使用一通道的灰度图"
   ]
  },
  {
   "cell_type": "code",
   "execution_count": null,
   "id": "3f037304",
   "metadata": {},
   "outputs": [],
   "source": [
    "conv_arch = ((1, 64), (1, 128), (2, 256), (2, 512), (2, 512))\n",
    "\n",
    "def vgg(conv_arch):\n",
    "    conv_blks = []\n",
    "    in_channels = 1\n",
    "    for (num_convs, out_channels) in conv_arch:\n",
    "        conv_blks.append(vgg_block(num_convs, in_channels, out_channels))\n",
    "        in_channels = out_channels\n",
    "\n",
    "    return nn.Sequential(*conv_blks, nn.Flatten(),\n",
    "                         nn.Linear(out_channels * 7 * 7, 4096), nn.ReLU(),\n",
    "                         nn.Dropout(0.5), nn.Linear(4096, 4096), nn.ReLU(),\n",
    "                         nn.Dropout(0.5), nn.Linear(4096, 10))\n",
    "\n",
    "net = vgg(conv_arch)"
   ]
  },
  {
   "cell_type": "markdown",
   "id": "7f2b8285",
   "metadata": {},
   "source": [
    "观察每一层的输出形状"
   ]
  },
  {
   "cell_type": "code",
   "execution_count": null,
   "id": "0602c9bd",
   "metadata": {},
   "outputs": [],
   "source": [
    "X = torch.randn(size=(1, 1, 224, 224))\n",
    "for blk in net:\n",
    "    X = blk(X)\n",
    "    print(blk.__class__.__name__, 'output shape:\\t', X.shape)\n"
   ]
  },
  {
   "cell_type": "markdown",
   "id": "bc4441a8",
   "metadata": {},
   "source": [
    "由于VGG-11比AlexNet计算量更大，因此我们构建了一个通道数较少的网络"
   ]
  },
  {
   "cell_type": "code",
   "execution_count": null,
   "id": "d4b30a06",
   "metadata": {},
   "outputs": [],
   "source": [
    "ratio = 4\n",
    "small_conv_arch = [(pair[0], pair[1] // ratio) for pair in conv_arch]\n",
    "net = vgg(small_conv_arch)"
   ]
  },
  {
   "cell_type": "markdown",
   "id": "1d3d46a3",
   "metadata": {},
   "source": [
    "模型训练"
   ]
  },
  {
   "cell_type": "code",
   "execution_count": null,
   "id": "43d5a580",
   "metadata": {},
   "outputs": [],
   "source": [
    "lr, num_epochs, batch_size = 0.05, 10, 128\n",
    "train_iter, test_iter = d2l.load_data_fashion_mnist(batch_size, resize=224)\n",
    "d2l.train_ch6(net, train_iter, test_iter, num_epochs, lr, d2l.try_gpu())\n"
   ]
  },
  {
   "cell_type": "code",
   "execution_count": null,
   "id": "0799540c",
   "metadata": {},
   "outputs": [],
   "source": []
  }
 ],
 "metadata": {
  "kernelspec": {
   "display_name": "Python 3",
   "language": "python",
   "name": "python3"
  },
  "language_info": {
   "codemirror_mode": {
    "name": "ipython",
    "version": 3
   },
   "file_extension": ".py",
   "mimetype": "text/x-python",
   "name": "python",
   "nbconvert_exporter": "python",
   "pygments_lexer": "ipython3",
   "version": "3.6.13"
  }
 },
 "nbformat": 4,
 "nbformat_minor": 5
}
